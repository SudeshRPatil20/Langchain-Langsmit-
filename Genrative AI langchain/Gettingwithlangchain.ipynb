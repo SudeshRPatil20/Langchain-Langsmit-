{
 "cells": [
  {
   "cell_type": "code",
   "execution_count": null,
   "id": "1f51fc02",
   "metadata": {},
   "outputs": [
    {
     "ename": "",
     "evalue": "",
     "output_type": "error",
     "traceback": [
      "\u001b[1;31mRunning cells with 'venv (Python 3.10.0)' requires the ipykernel package.\n",
      "\u001b[1;31mInstall 'ipykernel' into the Python environment. \n",
      "\u001b[1;31mCommand: 'conda install -p d:\\sudesh\\Gerative AI\\Genrative AI langchain\\venv ipykernel --update-deps --force-reinstall'"
     ]
    }
   ],
   "source": [
    "!pip inst"
   ]
  },
  {
   "cell_type": "code",
   "execution_count": null,
   "id": "ee73e48a",
   "metadata": {},
   "outputs": [
    {
     "ename": "",
     "evalue": "",
     "output_type": "error",
     "traceback": [
      "\u001b[1;31mRunning cells with 'venv (Python 3.10.0)' requires the ipykernel package.\n",
      "\u001b[1;31mInstall 'ipykernel' into the Python environment. \n",
      "\u001b[1;31mCommand: 'conda install -p d:\\sudesh\\Gerative AI\\Genrative AI langchain\\venv ipykernel --update-deps --force-reinstall'"
     ]
    }
   ],
   "source": [
    "import os\n",
    "from dotenv import "
   ]
  },
  {
   "cell_type": "code",
   "execution_count": null,
   "id": "036e3a4c",
   "metadata": {},
   "outputs": [],
   "source": []
  }
 ],
 "metadata": {
  "kernelspec": {
   "display_name": "Python 3",
   "language": "python",
   "name": "python3"
  },
  "language_info": {
   "name": "python",
   "version": "3.10.0"
  }
 },
 "nbformat": 4,
 "nbformat_minor": 5
}
